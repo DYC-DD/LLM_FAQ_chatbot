{
 "cells": [
  {
   "cell_type": "markdown",
   "metadata": {},
   "source": [
    "### 安裝必要套件 (使用docker可不必安裝)"
   ]
  },
  {
   "cell_type": "code",
   "execution_count": 1,
   "metadata": {},
   "outputs": [
    {
     "name": "stdout",
     "output_type": "stream",
     "text": [
      "Looking in indexes: https://pypi.org/simple, https://pypi.ngc.nvidia.com\n",
      "Requirement already satisfied: python-dotenv in c:\\users\\dyctw\\appdata\\local\\pypoetry\\cache\\virtualenvs\\dev310-_1vkew0v-py3.10\\lib\\site-packages (1.0.1)\n"
     ]
    },
    {
     "name": "stderr",
     "output_type": "stream",
     "text": [
      "\n",
      "[notice] A new release of pip is available: 24.2 -> 24.3.1\n",
      "[notice] To update, run: python.exe -m pip install --upgrade pip\n",
      "\n",
      "[notice] A new release of pip is available: 24.2 -> 24.3.1\n",
      "[notice] To update, run: python.exe -m pip install --upgrade pip\n"
     ]
    }
   ],
   "source": [
    "!pip install python-dotenv\n",
    "!pip install openai -q"
   ]
  },
  {
   "cell_type": "markdown",
   "metadata": {},
   "source": [
    "### 確認否載入API Key 的.env檔"
   ]
  },
  {
   "cell_type": "code",
   "execution_count": 10,
   "metadata": {},
   "outputs": [
    {
     "name": "stdout",
     "output_type": "stream",
     "text": [
      "我的金鑰是：sk-proj-3r**********\n"
     ]
    }
   ],
   "source": [
    "from dotenv import load_dotenv\n",
    "import os\n",
    "\n",
    "load_dotenv()\n",
    "\n",
    "openai_api_key = os.getenv('OPENAI_API_KEY')\n",
    "\n",
    "if openai_api_key:\n",
    "    print(f\"我的金鑰是：{openai_api_key[:10]}**********\")  \n",
    "else:\n",
    "    print(\"未找到 OPENAI_API_KEY，請確認 .env 檔案是否正確設定。\")\n"
   ]
  },
  {
   "cell_type": "markdown",
   "metadata": {},
   "source": [
    "### 測試"
   ]
  },
  {
   "cell_type": "code",
   "execution_count": 21,
   "metadata": {},
   "outputs": [
    {
     "name": "stdout",
     "output_type": "stream",
     "text": [
      "完整回應如下:\n",
      " 人工智慧是一種模擬人類智能的技術，能夠學習、推理和解決問題。\n"
     ]
    }
   ],
   "source": [
    "from dotenv import load_dotenv\n",
    "import os\n",
    "import openai\n",
    "\n",
    "load_dotenv()\n",
    "\n",
    "openai_api_key = os.getenv('OPENAI_API_KEY')\n",
    "\n",
    "# 確保 API Key 有正確讀取\n",
    "if not openai_api_key:\n",
    "    raise ValueError(\"OPENAI_API_KEY 未正確設定，請檢查 .env 檔案\")\n",
    "\n",
    "# 建立 OpenAI 客戶端\n",
    "client = openai.OpenAI(api_key=openai_api_key)\n",
    "\n",
    "# 進行對話請求\n",
    "response = client.chat.completions.create(\n",
    "    model=\"gpt-4o\",\n",
    "    messages=[{\"role\": \"user\", \"content\": \"一句話介紹AI，用繁體中文回覆我\"}],\n",
    "    temperature=0,\n",
    "    stream=True\n",
    ")\n",
    "\n",
    "\"\"\"\n",
    "model：指定使用的模型。\n",
    "messages：定義對話內容，模擬使用者輸入。\n",
    "temperature=0：控制生成內容的隨機性，設為 0 表示更具決定性和一致性的回應。\n",
    "stream=True：啟用串流模式，讓回應逐步返回，而非一次性獲取完整內容。\n",
    "\"\"\"\n",
    "\n",
    "# 處理回應\n",
    "collected_messages = []\n",
    "for chunk in response:\n",
    "    if chunk.choices and chunk.choices[0].delta.content:\n",
    "        chunk_text = chunk.choices[0].delta.content\n",
    "        collected_messages.append(chunk_text)\n",
    "        # print(chunk_text, end=\"\", flush=True)  # 直接輸出內容\n",
    "\n",
    "# 組合完整回應\n",
    "full_reply_content = ''.join(collected_messages)\n",
    "print(\"完整回應如下:\\n\",full_reply_content)"
   ]
  }
 ],
 "metadata": {
  "kernelspec": {
   "display_name": "Python 3",
   "language": "python",
   "name": "python3"
  },
  "language_info": {
   "codemirror_mode": {
    "name": "ipython",
    "version": 3
   },
   "file_extension": ".py",
   "mimetype": "text/x-python",
   "name": "python",
   "nbconvert_exporter": "python",
   "pygments_lexer": "ipython3",
   "version": "3.11.11"
  }
 },
 "nbformat": 4,
 "nbformat_minor": 2
}
